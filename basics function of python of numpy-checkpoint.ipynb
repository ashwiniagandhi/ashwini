{
 "cells": [
  {
   "cell_type": "code",
   "execution_count": null,
   "metadata": {},
   "outputs": [],
   "source": [
    "import numpy as np\n",
    "import pandas as pd"
   ]
  },
  {
   "cell_type": "code",
   "execution_count": null,
   "metadata": {},
   "outputs": [],
   "source": [
    "#single _dimensional array with numpy\n",
    "singlearray=np.array([12,34,65,7])\n",
    "print(\"single dimensional array using numpy\",single_array)"
   ]
  },
  {
   "cell_type": "code",
   "execution_count": null,
   "metadata": {},
   "outputs": [],
   "source": [
    "multidimensional=np.array([(8,9,10),(11,12,13)])\n",
    "print(\"multidimensional array using numpy\",multidimensional)"
   ]
  },
  {
   "cell_type": "code",
   "execution_count": null,
   "metadata": {},
   "outputs": [],
   "source": [
    "#check dimension of the array with numpy\n",
    "print(\"dimension of the array:\",singlearray.ndim)"
   ]
  },
  {
   "cell_type": "code",
   "execution_count": null,
   "metadata": {},
   "outputs": [],
   "source": [
    "#check type of the array with numpy\n",
    "print(\"type of the array:\",multidimensional.dtype)"
   ]
  },
  {
   "cell_type": "code",
   "execution_count": null,
   "metadata": {},
   "outputs": [],
   "source": [
    "#check memory size of the array with numpy\n",
    "print(\"memory size of array:\",singlearray.itemsize)"
   ]
  },
  {
   "cell_type": "code",
   "execution_count": null,
   "metadata": {},
   "outputs": [],
   "source": [
    "#check memory size of the array with numpy\n",
    "print(\"memory size of array:\",multidimensional.itemsize)"
   ]
  },
  {
   "cell_type": "code",
   "execution_count": null,
   "metadata": {},
   "outputs": [],
   "source": [
    "#check the shape of array with numpy\n",
    "print(\"shape of array:\",singlearray.shape)"
   ]
  },
  {
   "cell_type": "code",
   "execution_count": null,
   "metadata": {},
   "outputs": [],
   "source": [
    "#check the shape of array with numpy\n",
    "print(\"shape of array:\",multidiemsional.shape)"
   ]
  },
  {
   "cell_type": "code",
   "execution_count": null,
   "metadata": {},
   "outputs": [],
   "source": [
    "#reshape the array with numpy\n",
    "reshape_array=multidimensional.reshape(3,2)\n",
    "print(reshape_array)\n"
   ]
  },
  {
   "cell_type": "code",
   "execution_count": null,
   "metadata": {},
   "outputs": [],
   "source": [
    "#traverse through the array with numpy\n",
    "for i in singlearray:\n",
    "  print(i)"
   ]
  },
  {
   "cell_type": "code",
   "execution_count": null,
   "metadata": {},
   "outputs": [],
   "source": [
    "#iterating 2d array\n",
    "for x in multidimensional:\n",
    "  for y in x\n",
    "    print(y)"
   ]
  },
  {
   "cell_type": "code",
   "execution_count": null,
   "metadata": {},
   "outputs": [],
   "source": [
    "# concat two array\n",
    "first_array=np.array([90,12,13])\n",
    "second_array=np.array([14,16,18])\n",
    "new_array=np.concatenate((first_array,second_array))\n",
    "print(new_array)"
   ]
  },
  {
   "cell_type": "code",
   "execution_count": null,
   "metadata": {},
   "outputs": [],
   "source": [
    "#sort array with numpy\n",
    "print(\"sorted order:\",np.sort(new_array))\n"
   ]
  },
  {
   "cell_type": "code",
   "execution_count": null,
   "metadata": {},
   "outputs": [],
   "source": [
    "#array indexing with numpy\n",
    "print(\"first element start with 0 in array:\",new_array[0])\n"
   ]
  },
  {
   "cell_type": "code",
   "execution_count": null,
   "metadata": {},
   "outputs": [],
   "source": [
    "print(\"multidimensional\")\n",
    "print(\"first element start with second dimensional:\",multidimensional[1,0])"
   ]
  },
  {
   "cell_type": "code",
   "execution_count": null,
   "metadata": {},
   "outputs": [],
   "source": [
    "#array slicing with numpy\n",
    "print(new_array)\n",
    "print(\"starts from 1 index to go till 4 \",new_array[1:5])"
   ]
  }
 ],
 "metadata": {
  "kernelspec": {
   "display_name": "Python 3",
   "language": "python",
   "name": "python3"
  }
 },
 "nbformat": 4,
 "nbformat_minor": 2
}
