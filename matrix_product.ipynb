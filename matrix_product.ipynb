{
 "cells": [
  {
   "cell_type": "code",
   "execution_count": 1,
   "metadata": {},
   "outputs": [
    {
     "data": {
      "text/plain": [
       "array([[3, 2],\n",
       "       [1, 4]])"
      ]
     },
     "execution_count": 1,
     "metadata": {},
     "output_type": "execute_result"
    }
   ],
   "source": [
    "import numpy as np\n",
    "a=np.array([[3,2],[1,4]])\n",
    "a"
   ]
  },
  {
   "cell_type": "code",
   "execution_count": 2,
   "metadata": {},
   "outputs": [
    {
     "data": {
      "text/plain": [
       "array([[ 0.4, -0.2],\n",
       "       [-0.1,  0.3]])"
      ]
     },
     "execution_count": 2,
     "metadata": {},
     "output_type": "execute_result"
    }
   ],
   "source": [
    "ainv=np.linalg.inv(a)\n",
    "ainv#inverse matrix"
   ]
  },
  {
   "cell_type": "code",
   "execution_count": 3,
   "metadata": {},
   "outputs": [
    {
     "data": {
      "text/plain": [
       "array([[1., 0.],\n",
       "       [0., 1.]])"
      ]
     },
     "execution_count": 3,
     "metadata": {},
     "output_type": "execute_result"
    }
   ],
   "source": [
    "a.dot(ainv)"
   ]
  },
  {
   "cell_type": "code",
   "execution_count": 4,
   "metadata": {},
   "outputs": [
    {
     "data": {
      "text/plain": [
       "10.000000000000002"
      ]
     },
     "execution_count": 4,
     "metadata": {},
     "output_type": "execute_result"
    }
   ],
   "source": [
    "#matrix determinante\n",
    "np.linalg.det(a)"
   ]
  },
  {
   "cell_type": "code",
   "execution_count": 5,
   "metadata": {},
   "outputs": [
    {
     "data": {
      "text/plain": [
       "array([3, 4])"
      ]
     },
     "execution_count": 5,
     "metadata": {},
     "output_type": "execute_result"
    }
   ],
   "source": [
    "np.diag(a)#diagonal matrix"
   ]
  },
  {
   "cell_type": "code",
   "execution_count": 6,
   "metadata": {},
   "outputs": [
    {
     "data": {
      "text/plain": [
       "array([[3, 0],\n",
       "       [0, 2]])"
      ]
     },
     "execution_count": 6,
     "metadata": {},
     "output_type": "execute_result"
    }
   ],
   "source": [
    "np.diag([3,2])"
   ]
  },
  {
   "cell_type": "code",
   "execution_count": 7,
   "metadata": {},
   "outputs": [
    {
     "data": {
      "text/plain": [
       "array([3, 2])"
      ]
     },
     "execution_count": 7,
     "metadata": {},
     "output_type": "execute_result"
    }
   ],
   "source": [
    "b=np.array([3,2])\n",
    "b"
   ]
  },
  {
   "cell_type": "code",
   "execution_count": 8,
   "metadata": {},
   "outputs": [
    {
     "data": {
      "text/plain": [
       "array([1, 4])"
      ]
     },
     "execution_count": 8,
     "metadata": {},
     "output_type": "execute_result"
    }
   ],
   "source": [
    "d=np.array([1,4])\n",
    "d"
   ]
  },
  {
   "cell_type": "code",
   "execution_count": 9,
   "metadata": {},
   "outputs": [
    {
     "data": {
      "text/plain": [
       "array([[ 3, 12],\n",
       "       [ 2,  8]])"
      ]
     },
     "execution_count": 9,
     "metadata": {},
     "output_type": "execute_result"
    }
   ],
   "source": [
    "np.outer(b,d)"
   ]
  },
  {
   "cell_type": "code",
   "execution_count": 10,
   "metadata": {},
   "outputs": [
    {
     "data": {
      "text/plain": [
       "11"
      ]
     },
     "execution_count": 10,
     "metadata": {},
     "output_type": "execute_result"
    }
   ],
   "source": [
    "np.inner(b,d)"
   ]
  },
  {
   "cell_type": "code",
   "execution_count": 11,
   "metadata": {},
   "outputs": [
    {
     "data": {
      "text/plain": [
       "11"
      ]
     },
     "execution_count": 11,
     "metadata": {},
     "output_type": "execute_result"
    }
   ],
   "source": [
    "b.dot(d)"
   ]
  },
  {
   "cell_type": "code",
   "execution_count": 12,
   "metadata": {},
   "outputs": [
    {
     "data": {
      "text/plain": [
       "7"
      ]
     },
     "execution_count": 12,
     "metadata": {},
     "output_type": "execute_result"
    }
   ],
   "source": [
    "np.diag(a).sum()"
   ]
  },
  {
   "cell_type": "code",
   "execution_count": 20,
   "metadata": {},
   "outputs": [
    {
     "data": {
      "text/plain": [
       "7"
      ]
     },
     "execution_count": 20,
     "metadata": {},
     "output_type": "execute_result"
    }
   ],
   "source": [
    "np.trace(a)"
   ]
  },
  {
   "cell_type": "code",
   "execution_count": 22,
   "metadata": {},
   "outputs": [
    {
     "data": {
      "text/plain": [
       "array([[-1.79009532e+00,  2.69845403e-01,  2.08630021e+00],\n",
       "       [ 2.48437881e-01, -7.93695205e-01,  1.44546112e+00],\n",
       "       [ 7.66121225e-01, -1.79911308e-01,  3.54265962e-01],\n",
       "       [-3.20670888e-01,  3.90585535e-01,  1.65469334e+00],\n",
       "       [-5.55333901e-01,  1.41925363e+00, -4.89222825e-02],\n",
       "       [ 5.59544057e-01, -8.23976739e-01,  7.86246343e-01],\n",
       "       [-7.69262635e-01, -1.06411308e+00, -1.77245300e+00],\n",
       "       [ 4.42392025e-01, -1.81271532e-01, -1.66924099e+00],\n",
       "       [-3.26013585e-01, -9.66727457e-01, -9.99835966e-01],\n",
       "       [ 8.50191888e-01, -7.32011948e-01,  5.82222579e-01],\n",
       "       [-8.25293822e-01, -1.38904401e+00,  6.98899725e-01],\n",
       "       [ 1.78553771e+00,  7.31298388e-01,  1.66387762e+00],\n",
       "       [-1.71325947e-01, -8.50901035e-01, -1.20474647e+00],\n",
       "       [ 8.99415934e-01,  1.48456779e-01,  1.23181005e-01],\n",
       "       [-7.52865738e-01, -1.09080939e+00, -6.53876860e-01],\n",
       "       [-1.15169396e-01, -3.86455548e-01,  1.63745552e+00],\n",
       "       [-9.54630528e-01, -8.18708160e-01, -5.18022628e-01],\n",
       "       [-7.00710081e-01, -1.21227235e+00, -1.22535494e+00],\n",
       "       [-3.88662475e-01, -2.26966278e+00, -9.74719507e-01],\n",
       "       [-1.50626968e+00, -4.33181685e-01, -8.01661208e-01],\n",
       "       [ 4.10775673e-01, -4.67297501e-01, -2.83856849e-01],\n",
       "       [ 7.15753803e-01,  1.97976952e-01, -3.96667371e-03],\n",
       "       [-1.12311590e+00, -4.33583798e-01, -8.70709538e-01],\n",
       "       [-6.87196449e-01,  8.81798180e-02,  5.86004689e-01],\n",
       "       [ 3.32079255e-01, -1.51919579e+00,  8.24805765e-03],\n",
       "       [ 3.30630236e-01,  9.29985191e-01, -3.00524739e+00],\n",
       "       [-6.65918219e-01, -1.36012430e+00, -2.86009460e-01],\n",
       "       [ 1.41213837e+00,  1.77661013e+00,  5.08434639e-01],\n",
       "       [ 1.99098317e+00, -2.39217746e-01,  2.24037716e-02],\n",
       "       [-6.06058786e-01,  2.27607917e+00, -5.82226234e-02],\n",
       "       [-1.35547092e+00, -8.37102859e-01, -8.60243686e-01],\n",
       "       [ 4.90887537e-01,  1.44678689e+00,  7.71913643e-01],\n",
       "       [ 1.06896484e+00,  1.98269620e-01,  1.32202849e+00],\n",
       "       [ 9.98257649e-01, -1.06055261e+00, -5.75563407e-01],\n",
       "       [-4.63918862e-01,  6.40734166e-01, -6.71439568e-01],\n",
       "       [-1.74857583e+00,  3.51705896e-01, -5.57254144e-01],\n",
       "       [-2.70016933e-02, -1.01902801e+00,  5.03057140e-01],\n",
       "       [-8.90774253e-02, -2.06643786e+00, -3.44343510e-02],\n",
       "       [ 1.43153677e-02, -2.62974986e+00,  3.59141695e-01],\n",
       "       [-3.94267124e-01, -4.21836365e-01,  1.32740864e+00],\n",
       "       [ 1.07787424e+00,  1.07612538e+00, -7.61980315e-01],\n",
       "       [-1.41802001e+00, -6.89302743e-01,  1.65230810e+00],\n",
       "       [-1.33029172e+00,  4.88290423e-01, -1.12289059e-01],\n",
       "       [-2.31637293e-01, -1.61787264e+00, -1.53886201e+00],\n",
       "       [ 8.37168225e-01, -2.25621127e+00, -5.90232686e-01],\n",
       "       [ 1.12502255e+00, -3.46063321e-01, -2.34437902e-01],\n",
       "       [ 2.70672810e+00, -8.42997513e-01, -3.81711437e-01],\n",
       "       [ 3.98184870e-01, -1.20058576e+00, -1.64525557e+00],\n",
       "       [-8.69442963e-01,  3.09699450e-01, -1.55158404e+00],\n",
       "       [ 2.99256579e-01, -8.62810728e-01, -2.07965535e-02],\n",
       "       [-7.57415751e-01, -5.59308832e-01,  6.44455459e-01],\n",
       "       [ 1.84877389e+00,  1.13819404e+00,  6.19294908e-02],\n",
       "       [-1.38537431e+00, -1.30933958e+00,  9.25641298e-02],\n",
       "       [-7.30202372e-01, -7.05417275e-01, -2.87264290e-01],\n",
       "       [ 1.23255963e+00, -3.20882390e+00, -9.46309820e-01],\n",
       "       [-1.66201375e+00, -2.33864588e-01,  1.61583736e+00],\n",
       "       [ 1.00546922e-01, -5.58770741e-01, -4.72492275e-01],\n",
       "       [ 9.19428265e-01,  6.86709759e-01, -3.29232545e-01],\n",
       "       [-8.09606353e-01, -1.19129972e+00,  1.03417852e+00],\n",
       "       [ 5.00361539e-01, -2.01325286e-01,  1.64844199e+00],\n",
       "       [ 2.25102577e-01, -2.94064358e-02, -8.29309544e-01],\n",
       "       [ 1.81995274e-01, -6.25974278e-01,  1.12523794e+00],\n",
       "       [-1.70194467e+00, -7.40161611e-01, -4.01153677e-01],\n",
       "       [ 3.17520221e-01,  2.13207212e-01, -1.21198664e+00],\n",
       "       [ 3.38060531e-01,  1.42345804e-02,  1.56761782e-01],\n",
       "       [-2.05913715e+00, -3.67648482e-01,  9.63854106e-01],\n",
       "       [-2.21875377e+00, -6.35973621e-01, -9.90893726e-01],\n",
       "       [ 3.72809425e-03, -1.15900904e+00,  1.49219391e+00],\n",
       "       [ 2.14790944e+00,  8.40977930e-02, -3.78000498e-02],\n",
       "       [-6.71956163e-01, -2.12914563e+00,  2.14629571e-01],\n",
       "       [ 8.59114882e-01, -6.92390898e-01,  2.09503740e-01],\n",
       "       [-1.36384612e+00,  4.46633752e-02, -2.98267695e-01],\n",
       "       [ 1.39584666e+00, -2.21654637e+00,  1.20092496e+00],\n",
       "       [ 3.15285408e-01,  8.11533897e-02, -1.01400737e-01],\n",
       "       [ 6.19015216e-01,  6.29605102e-01,  1.14476119e+00],\n",
       "       [-1.52790160e+00, -5.63889297e-01,  1.72248670e+00],\n",
       "       [-1.14696937e+00, -6.18431105e-01, -4.29210298e-01],\n",
       "       [-1.78302050e+00,  1.67605911e+00,  2.11367803e+00],\n",
       "       [-7.30340621e-01, -2.15371769e+00, -4.52403148e-01],\n",
       "       [-1.33295371e+00,  6.51314552e-01, -4.78335565e-01],\n",
       "       [-4.94301164e-01, -1.19462426e+00, -3.63315474e-01],\n",
       "       [ 2.37764041e-01, -1.66487705e+00,  2.39497686e+00],\n",
       "       [ 2.08291581e+00, -1.36237813e+00,  1.17603226e+00],\n",
       "       [-6.75289060e-01, -5.27426850e-01,  6.74509583e-01],\n",
       "       [ 1.03349615e+00, -2.48707984e-01,  2.87504731e-01],\n",
       "       [-1.62275688e+00, -5.82600104e-01,  1.14314679e+00],\n",
       "       [ 3.22125072e-01, -7.88922936e-01, -5.65629674e-01],\n",
       "       [ 6.57152456e-01,  5.29172424e-01,  1.15979830e+00],\n",
       "       [-4.32873924e-01,  3.00188284e-01, -1.15430937e+00],\n",
       "       [ 8.53057852e-01,  5.94988617e-01,  2.76436002e-03],\n",
       "       [ 2.51896006e+00,  4.12383203e-01, -1.12974322e+00],\n",
       "       [-5.90644457e-01,  6.11007254e-01, -1.37309713e-01],\n",
       "       [ 2.80631106e-01, -3.35596822e-01,  2.03174413e+00],\n",
       "       [ 4.58802467e-01,  1.01375381e+00, -3.91038434e-01],\n",
       "       [ 1.09023296e+00, -7.12707188e-01, -7.41825969e-01],\n",
       "       [ 1.16235783e+00, -5.57096775e-01, -2.18647042e+00],\n",
       "       [ 1.35330114e-01, -1.87051803e+00,  8.51445741e-02],\n",
       "       [ 1.11784152e-01,  2.01184028e-03, -1.68485672e+00],\n",
       "       [ 1.21038982e-01,  2.05038889e-02, -3.19849130e-01],\n",
       "       [ 3.08985286e-01,  9.41588454e-01, -6.85749609e-01]])"
      ]
     },
     "execution_count": 22,
     "metadata": {},
     "output_type": "execute_result"
    }
   ],
   "source": [
    "x=np.random.randn(100,3)\n",
    "x"
   ]
  },
  {
   "cell_type": "code",
   "execution_count": 15,
   "metadata": {},
   "outputs": [
    {
     "data": {
      "text/plain": [
       "array([[ 0.32144878, -0.55446694, -0.12855833, ...,  0.0342295 ,\n",
       "        -0.06139707,  0.1638101 ],\n",
       "       [-0.55446694,  0.95640067,  0.22296603, ..., -0.05947065,\n",
       "         0.10640157, -0.28316516],\n",
       "       [-0.12855833,  0.22296603,  2.01913933, ..., -0.70670045,\n",
       "         0.83018099, -1.05140278],\n",
       "       ...,\n",
       "       [ 0.0342295 , -0.05947065, -0.70670045, ...,  0.24771575,\n",
       "        -0.29027056,  0.36466278],\n",
       "       [-0.06139707,  0.10640157,  0.83018099, ..., -0.29027056,\n",
       "         0.34156658, -0.43493103],\n",
       "       [ 0.1638101 , -0.28316516, -1.05140278, ...,  0.36466278,\n",
       "        -0.43493103,  0.57743803]])"
      ]
     },
     "execution_count": 15,
     "metadata": {},
     "output_type": "execute_result"
    }
   ],
   "source": [
    "cov=np.cov(x)\n",
    "cov"
   ]
  },
  {
   "cell_type": "code",
   "execution_count": 17,
   "metadata": {},
   "outputs": [
    {
     "data": {
      "text/plain": [
       "(100, 100)"
      ]
     },
     "execution_count": 17,
     "metadata": {},
     "output_type": "execute_result"
    }
   ],
   "source": [
    "cov.shape"
   ]
  },
  {
   "cell_type": "code",
   "execution_count": 24,
   "metadata": {},
   "outputs": [
    {
     "data": {
      "text/plain": [
       "array([[ 1.12741746,  0.05014805, -0.05989502],\n",
       "       [ 0.05014805,  0.99518771,  0.04989619],\n",
       "       [-0.05989502,  0.04989619,  1.10989197]])"
      ]
     },
     "execution_count": 24,
     "metadata": {},
     "output_type": "execute_result"
    }
   ],
   "source": [
    "cov=np.cov(x.T)\n",
    "cov"
   ]
  },
  {
   "cell_type": "code",
   "execution_count": 25,
   "metadata": {},
   "outputs": [
    {
     "data": {
      "text/plain": [
       "(array([0.94932585, 1.10378688, 1.1793844 ]),\n",
       " array([[-0.37036026,  0.51960556, -0.76996321],\n",
       "        [ 0.83890231,  0.54301833, -0.03706767],\n",
       "        [-0.39884356,  0.6596523 ,  0.63701071]]))"
      ]
     },
     "execution_count": 25,
     "metadata": {},
     "output_type": "execute_result"
    }
   ],
   "source": [
    "np.linalg.eigh(cov)"
   ]
  },
  {
   "cell_type": "code",
   "execution_count": 26,
   "metadata": {},
   "outputs": [
    {
     "data": {
      "text/plain": [
       "array([[3, 2],\n",
       "       [1, 4]])"
      ]
     },
     "execution_count": 26,
     "metadata": {},
     "output_type": "execute_result"
    }
   ],
   "source": [
    "a"
   ]
  },
  {
   "cell_type": "code",
   "execution_count": 27,
   "metadata": {},
   "outputs": [
    {
     "data": {
      "text/plain": [
       "array([3, 2])"
      ]
     },
     "execution_count": 27,
     "metadata": {},
     "output_type": "execute_result"
    }
   ],
   "source": [
    "b"
   ]
  },
  {
   "cell_type": "code",
   "execution_count": 29,
   "metadata": {},
   "outputs": [
    {
     "data": {
      "text/plain": [
       "array([3, 2])"
      ]
     },
     "execution_count": 29,
     "metadata": {},
     "output_type": "execute_result"
    }
   ],
   "source": [
    "b=np.array([3,2])\n",
    "b"
   ]
  },
  {
   "cell_type": "code",
   "execution_count": 31,
   "metadata": {},
   "outputs": [
    {
     "data": {
      "text/plain": [
       "array([0.8, 0.3])"
      ]
     },
     "execution_count": 31,
     "metadata": {},
     "output_type": "execute_result"
    }
   ],
   "source": [
    "v=np.linalg.inv(a).dot(b)\n",
    "v"
   ]
  },
  {
   "cell_type": "code",
   "execution_count": 32,
   "metadata": {},
   "outputs": [
    {
     "data": {
      "text/plain": [
       "array([0.8, 0.3])"
      ]
     },
     "execution_count": 32,
     "metadata": {},
     "output_type": "execute_result"
    }
   ],
   "source": [
    "c=np.linalg.solve(a,b)\n",
    "c"
   ]
  }
 ],
 "metadata": {
  "kernelspec": {
   "display_name": "Python 3",
   "language": "python",
   "name": "python3"
  },
  "language_info": {
   "codemirror_mode": {
    "name": "ipython",
    "version": 3
   },
   "file_extension": ".py",
   "mimetype": "text/x-python",
   "name": "python",
   "nbconvert_exporter": "python",
   "pygments_lexer": "ipython3",
   "version": "3.7.3"
  }
 },
 "nbformat": 4,
 "nbformat_minor": 2
}
