{
 "cells": [
  {
   "cell_type": "code",
   "execution_count": 2,
   "metadata": {},
   "outputs": [
    {
     "name": "stdout",
     "output_type": "stream",
     "text": [
      "4.230769230769231\n",
      "5\n",
      "5\n",
      "1.9644272343292228\n",
      "3.858974358974359\n"
     ]
    }
   ],
   "source": [
    "import statistics\n",
    "\n",
    "example_list = [5,2,5,6,1,2,6,7,2,6,3,5,5]\n",
    "\n",
    "x = statistics.mean(example_list)\n",
    "print(x)\n",
    "\n",
    "y = statistics.median(example_list)\n",
    "print(y)\n",
    "\n",
    "z = statistics.mode(example_list)\n",
    "print(z)\n",
    "\n",
    "a = statistics.stdev(example_list)\n",
    "print(a)\n",
    "\n",
    "b = statistics.variance(example_list)\n",
    "print(b)\n"
   ]
  },
  {
   "cell_type": "code",
   "execution_count": 3,
   "metadata": {},
   "outputs": [
    {
     "name": "stdout",
     "output_type": "stream",
     "text": [
      "Low median of data-set is 5 \n"
     ]
    }
   ],
   "source": [
    "import statistics     \n",
    "  \n",
    "set1 = [4, 6, 2, 5, 7, 7]     \n",
    "   \n",
    "print(\"Low median of data-set is % s \"   \n",
    "        % (statistics.median_low(set1)))  "
   ]
  },
  {
   "cell_type": "code",
   "execution_count": 4,
   "metadata": {},
   "outputs": [
    {
     "name": "stdout",
     "output_type": "stream",
     "text": [
      "High median of data-set is 6 \n"
     ]
    }
   ],
   "source": [
    "  dataset = [2, 1, 7, 6, 1, 9]     \n",
    "print(\"High median of data-set is %s \"   \n",
    "        % (statistics.median_high(dataset))) "
   ]
  },
  {
   "cell_type": "code",
   "execution_count": 6,
   "metadata": {},
   "outputs": [
    {
     "name": "stdout",
     "output_type": "stream",
     "text": [
      "Low median of data-set is 1.7716909687891083 \n"
     ]
    }
   ],
   "source": [
    "print(\"Low median of data-set is % s \"   \n",
    "        % (statistics.pstdev(set1)))   "
   ]
  },
  {
   "cell_type": "code",
   "execution_count": 9,
   "metadata": {},
   "outputs": [
    {
     "name": "stdout",
     "output_type": "stream",
     "text": [
      "Low median of data-set is 5.5 \n"
     ]
    }
   ],
   "source": [
    "print(\"Low median of data-set is % s \"   \n",
    "        % (statistics.median_grouped(dataset)))   "
   ]
  },
  {
   "cell_type": "code",
   "execution_count": 10,
   "metadata": {},
   "outputs": [
    {
     "name": "stdout",
     "output_type": "stream",
     "text": [
      "Low median of data-set is 2.0543478260869565 \n"
     ]
    }
   ],
   "source": [
    "print(\"Low median of data-set is % s \"   \n",
    "        % (statistics.harmonic_mean(dataset)))   "
   ]
  },
  {
   "cell_type": "code",
   "execution_count": 11,
   "metadata": {},
   "outputs": [
    {
     "name": "stdout",
     "output_type": "stream",
     "text": [
      "Low median of data-set is 9.88888888888889 \n"
     ]
    }
   ],
   "source": [
    "print(\"Low median of data-set is % s \"   \n",
    "        % (statistics.pvariance(dataset)))   "
   ]
  },
  {
   "cell_type": "code",
   "execution_count": 24,
   "metadata": {},
   "outputs": [
    {
     "ename": "AttributeError",
     "evalue": "module 'statistics' has no attribute 'quartiles'",
     "output_type": "error",
     "traceback": [
      "\u001b[1;31m---------------------------------------------------------------------------\u001b[0m",
      "\u001b[1;31mAttributeError\u001b[0m                            Traceback (most recent call last)",
      "\u001b[1;32m<ipython-input-24-96880575b14f>\u001b[0m in \u001b[0;36m<module>\u001b[1;34m\u001b[0m\n\u001b[0;32m      1\u001b[0m print(\"Low median of data-set is % s \"   \n\u001b[1;32m----> 2\u001b[1;33m         % (statistics.quartiles(dataset)))   \n\u001b[0m",
      "\u001b[1;31mAttributeError\u001b[0m: module 'statistics' has no attribute 'quartiles'"
     ]
    }
   ],
   "source": [
    "print(\"Low median of data-set is % s \"   \n",
    "        % (statistics.quartiles(dataset)))   "
   ]
  }
 ],
 "metadata": {
  "kernelspec": {
   "display_name": "Python 3",
   "language": "python",
   "name": "python3"
  },
  "language_info": {
   "codemirror_mode": {
    "name": "ipython",
    "version": 3
   },
   "file_extension": ".py",
   "mimetype": "text/x-python",
   "name": "python",
   "nbconvert_exporter": "python",
   "pygments_lexer": "ipython3",
   "version": "3.7.3"
  }
 },
 "nbformat": 4,
 "nbformat_minor": 2
}
