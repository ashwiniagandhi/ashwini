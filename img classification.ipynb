{
 "cells": [
  {
   "cell_type": "code",
   "execution_count": 23,
   "metadata": {},
   "outputs": [],
   "source": [
    "import matplotlib.pyplot as plt\n",
    "%matplotlib inline"
   ]
  },
  {
   "cell_type": "code",
   "execution_count": 24,
   "metadata": {},
   "outputs": [],
   "source": [
    "import numpy as np\n",
    "import pandas as pd"
   ]
  },
  {
   "cell_type": "code",
   "execution_count": 25,
   "metadata": {},
   "outputs": [],
   "source": [
    "import keras"
   ]
  },
  {
   "cell_type": "code",
   "execution_count": 27,
   "metadata": {},
   "outputs": [
    {
     "data": {
      "text/plain": [
       "'tensorflow'"
      ]
     },
     "execution_count": 27,
     "metadata": {},
     "output_type": "execute_result"
    }
   ],
   "source": [
    "keras.backend.backend()#use backend as tensorflow/microsoft CNTK,theano"
   ]
  },
  {
   "cell_type": "code",
   "execution_count": 31,
   "metadata": {},
   "outputs": [],
   "source": [
    "from keras.datasets import fashion_mnist"
   ]
  },
  {
   "cell_type": "code",
   "execution_count": 32,
   "metadata": {},
   "outputs": [
    {
     "name": "stdout",
     "output_type": "stream",
     "text": [
      "Downloading data from http://fashion-mnist.s3-website.eu-central-1.amazonaws.com/train-labels-idx1-ubyte.gz\n",
      "32768/29515 [=================================] - 1s 41us/step\n",
      "Downloading data from http://fashion-mnist.s3-website.eu-central-1.amazonaws.com/train-images-idx3-ubyte.gz\n",
      "26427392/26421880 [==============================] - 586s 22us/step\n",
      "Downloading data from http://fashion-mnist.s3-website.eu-central-1.amazonaws.com/t10k-labels-idx1-ubyte.gz\n",
      "8192/5148 [===============================================] - 0s 3us/step\n",
      "Downloading data from http://fashion-mnist.s3-website.eu-central-1.amazonaws.com/t10k-images-idx3-ubyte.gz\n",
      "4423680/4422102 [==============================] - 57s 13us/step\n"
     ]
    }
   ],
   "source": [
    "(x_train,y_train),(x_test,y_test)=fashion_mnist.load_data()"
   ]
  },
  {
   "cell_type": "code",
   "execution_count": 33,
   "metadata": {},
   "outputs": [
    {
     "data": {
      "text/plain": [
       "(60000, 28, 28)"
      ]
     },
     "execution_count": 33,
     "metadata": {},
     "output_type": "execute_result"
    }
   ],
   "source": [
    "x_train.shape#it is 60000 images and each img having 28 by 28 pixel"
   ]
  },
  {
   "cell_type": "code",
   "execution_count": 34,
   "metadata": {},
   "outputs": [
    {
     "data": {
      "text/plain": [
       "(10000, 28, 28)"
      ]
     },
     "execution_count": 34,
     "metadata": {},
     "output_type": "execute_result"
    }
   ],
   "source": [
    "x_test.shape#and in test dataset 1000 imgs and each img having 28 by 28 pixel"
   ]
  },
  {
   "cell_type": "code",
   "execution_count": 35,
   "metadata": {},
   "outputs": [
    {
     "data": {
      "text/plain": [
       "array([[  0,   0,   0,   0,   0,   0,   0,   0,   0,   0,   0,   0,   0,\n",
       "          0,   0,   0,   0,   0,   0,   0,   0,   0,   0,   0,   0,   0,\n",
       "          0,   0],\n",
       "       [  0,   0,   0,   0,   0,   0,   0,   0,   0,   0,   0,   0,   0,\n",
       "          0,   0,   0,   0,   0,   0,   0,   0,   0,   0,   0,   0,   0,\n",
       "          0,   0],\n",
       "       [  0,   0,   0,   0,   0,   0,   0,   0,   0,   0,   0,   0,   0,\n",
       "          0,   0,   0,   0,   0,   0,   0,   0,   0,   0,   0,   0,   0,\n",
       "          0,   0],\n",
       "       [  0,   0,   0,   0,   0,   0,   0,   0,   0,   0,   0,   0,   1,\n",
       "          0,   0,  13,  73,   0,   0,   1,   4,   0,   0,   0,   0,   1,\n",
       "          1,   0],\n",
       "       [  0,   0,   0,   0,   0,   0,   0,   0,   0,   0,   0,   0,   3,\n",
       "          0,  36, 136, 127,  62,  54,   0,   0,   0,   1,   3,   4,   0,\n",
       "          0,   3],\n",
       "       [  0,   0,   0,   0,   0,   0,   0,   0,   0,   0,   0,   0,   6,\n",
       "          0, 102, 204, 176, 134, 144, 123,  23,   0,   0,   0,   0,  12,\n",
       "         10,   0],\n",
       "       [  0,   0,   0,   0,   0,   0,   0,   0,   0,   0,   0,   0,   0,\n",
       "          0, 155, 236, 207, 178, 107, 156, 161, 109,  64,  23,  77, 130,\n",
       "         72,  15],\n",
       "       [  0,   0,   0,   0,   0,   0,   0,   0,   0,   0,   0,   1,   0,\n",
       "         69, 207, 223, 218, 216, 216, 163, 127, 121, 122, 146, 141,  88,\n",
       "        172,  66],\n",
       "       [  0,   0,   0,   0,   0,   0,   0,   0,   0,   1,   1,   1,   0,\n",
       "        200, 232, 232, 233, 229, 223, 223, 215, 213, 164, 127, 123, 196,\n",
       "        229,   0],\n",
       "       [  0,   0,   0,   0,   0,   0,   0,   0,   0,   0,   0,   0,   0,\n",
       "        183, 225, 216, 223, 228, 235, 227, 224, 222, 224, 221, 223, 245,\n",
       "        173,   0],\n",
       "       [  0,   0,   0,   0,   0,   0,   0,   0,   0,   0,   0,   0,   0,\n",
       "        193, 228, 218, 213, 198, 180, 212, 210, 211, 213, 223, 220, 243,\n",
       "        202,   0],\n",
       "       [  0,   0,   0,   0,   0,   0,   0,   0,   0,   1,   3,   0,  12,\n",
       "        219, 220, 212, 218, 192, 169, 227, 208, 218, 224, 212, 226, 197,\n",
       "        209,  52],\n",
       "       [  0,   0,   0,   0,   0,   0,   0,   0,   0,   0,   6,   0,  99,\n",
       "        244, 222, 220, 218, 203, 198, 221, 215, 213, 222, 220, 245, 119,\n",
       "        167,  56],\n",
       "       [  0,   0,   0,   0,   0,   0,   0,   0,   0,   4,   0,   0,  55,\n",
       "        236, 228, 230, 228, 240, 232, 213, 218, 223, 234, 217, 217, 209,\n",
       "         92,   0],\n",
       "       [  0,   0,   1,   4,   6,   7,   2,   0,   0,   0,   0,   0, 237,\n",
       "        226, 217, 223, 222, 219, 222, 221, 216, 223, 229, 215, 218, 255,\n",
       "         77,   0],\n",
       "       [  0,   3,   0,   0,   0,   0,   0,   0,   0,  62, 145, 204, 228,\n",
       "        207, 213, 221, 218, 208, 211, 218, 224, 223, 219, 215, 224, 244,\n",
       "        159,   0],\n",
       "       [  0,   0,   0,   0,  18,  44,  82, 107, 189, 228, 220, 222, 217,\n",
       "        226, 200, 205, 211, 230, 224, 234, 176, 188, 250, 248, 233, 238,\n",
       "        215,   0],\n",
       "       [  0,  57, 187, 208, 224, 221, 224, 208, 204, 214, 208, 209, 200,\n",
       "        159, 245, 193, 206, 223, 255, 255, 221, 234, 221, 211, 220, 232,\n",
       "        246,   0],\n",
       "       [  3, 202, 228, 224, 221, 211, 211, 214, 205, 205, 205, 220, 240,\n",
       "         80, 150, 255, 229, 221, 188, 154, 191, 210, 204, 209, 222, 228,\n",
       "        225,   0],\n",
       "       [ 98, 233, 198, 210, 222, 229, 229, 234, 249, 220, 194, 215, 217,\n",
       "        241,  65,  73, 106, 117, 168, 219, 221, 215, 217, 223, 223, 224,\n",
       "        229,  29],\n",
       "       [ 75, 204, 212, 204, 193, 205, 211, 225, 216, 185, 197, 206, 198,\n",
       "        213, 240, 195, 227, 245, 239, 223, 218, 212, 209, 222, 220, 221,\n",
       "        230,  67],\n",
       "       [ 48, 203, 183, 194, 213, 197, 185, 190, 194, 192, 202, 214, 219,\n",
       "        221, 220, 236, 225, 216, 199, 206, 186, 181, 177, 172, 181, 205,\n",
       "        206, 115],\n",
       "       [  0, 122, 219, 193, 179, 171, 183, 196, 204, 210, 213, 207, 211,\n",
       "        210, 200, 196, 194, 191, 195, 191, 198, 192, 176, 156, 167, 177,\n",
       "        210,  92],\n",
       "       [  0,   0,  74, 189, 212, 191, 175, 172, 175, 181, 185, 188, 189,\n",
       "        188, 193, 198, 204, 209, 210, 210, 211, 188, 188, 194, 192, 216,\n",
       "        170,   0],\n",
       "       [  2,   0,   0,   0,  66, 200, 222, 237, 239, 242, 246, 243, 244,\n",
       "        221, 220, 193, 191, 179, 182, 182, 181, 176, 166, 168,  99,  58,\n",
       "          0,   0],\n",
       "       [  0,   0,   0,   0,   0,   0,   0,  40,  61,  44,  72,  41,  35,\n",
       "          0,   0,   0,   0,   0,   0,   0,   0,   0,   0,   0,   0,   0,\n",
       "          0,   0],\n",
       "       [  0,   0,   0,   0,   0,   0,   0,   0,   0,   0,   0,   0,   0,\n",
       "          0,   0,   0,   0,   0,   0,   0,   0,   0,   0,   0,   0,   0,\n",
       "          0,   0],\n",
       "       [  0,   0,   0,   0,   0,   0,   0,   0,   0,   0,   0,   0,   0,\n",
       "          0,   0,   0,   0,   0,   0,   0,   0,   0,   0,   0,   0,   0,\n",
       "          0,   0]], dtype=uint8)"
      ]
     },
     "execution_count": 35,
     "metadata": {},
     "output_type": "execute_result"
    }
   ],
   "source": [
    "x_train[0]#see image having 28by28 pixel"
   ]
  },
  {
   "cell_type": "code",
   "execution_count": 38,
   "metadata": {},
   "outputs": [
    {
     "data": {
      "text/plain": [
       "<matplotlib.image.AxesImage at 0x1abe4f865f8>"
      ]
     },
     "execution_count": 38,
     "metadata": {},
     "output_type": "execute_result"
    },
    {
     "data": {
      "image/png": "[encoded data removed]",
      "text/plain": [
       "<Figure size 288x288 with 1 Axes>"
      ]
     },
     "metadata": {
      "needs_background": "light"
     },
     "output_type": "display_data"
    }
   ],
   "source": [
    "plt.matshow(x_train[0])#in this assignment img are classified into 9 categories and each img having 28 pixel by 28"
   ]
  },
  {
   "cell_type": "code",
   "execution_count": 37,
   "metadata": {},
   "outputs": [
    {
     "data": {
      "text/plain": [
       "9"
      ]
     },
     "execution_count": 37,
     "metadata": {},
     "output_type": "execute_result"
    }
   ],
   "source": [
    "y_train[0]#check 1st img and label correspond to this is 9 in data set and 9 which is ankle boot"
   ]
  },
  {
   "cell_type": "code",
   "execution_count": 39,
   "metadata": {},
   "outputs": [
    {
     "data": {
      "text/plain": [
       "<matplotlib.image.AxesImage at 0x1abe4fe0668>"
      ]
     },
     "execution_count": 39,
     "metadata": {},
     "output_type": "execute_result"
    },
    {
     "data": {
      "image/png": "[encoded data removed]",
      "text/plain": [
       "<Figure size 288x288 with 1 Axes>"
      ]
     },
     "metadata": {
      "needs_background": "light"
     },
     "output_type": "display_data"
    }
   ],
   "source": [
    "plt.matshow(x_train[1])#another img predict "
   ]
  },
  {
   "cell_type": "code",
   "execution_count": 40,
   "metadata": {},
   "outputs": [
    {
     "data": {
      "text/plain": [
       "0"
      ]
     },
     "execution_count": 40,
     "metadata": {},
     "output_type": "execute_result"
    }
   ],
   "source": [
    "y_train[1]#0 index indataset label are t_shirt "
   ]
  },
  {
   "cell_type": "code",
   "execution_count": 42,
   "metadata": {},
   "outputs": [],
   "source": [
    "x_train=x_train/255 #normalize dataset inthis dataset containg value between 0 to 255 so that represent color scale we want to normalize\n",
    "#it to range of 0 to 1\n",
    "x_test=x_test/255#dataset value contain between 0 to 255 and this value represents colur scale and we want to normailize between 0 to 1"
   ]
  },
  {
   "cell_type": "code",
   "execution_count": 43,
   "metadata": {},
   "outputs": [
    {
     "data": {
      "text/plain": [
       "array([[0.00000000e+00, 0.00000000e+00, 0.00000000e+00, 0.00000000e+00,\n",
       "        0.00000000e+00, 0.00000000e+00, 0.00000000e+00, 0.00000000e+00,\n",
       "        0.00000000e+00, 0.00000000e+00, 0.00000000e+00, 0.00000000e+00,\n",
       "        0.00000000e+00, 0.00000000e+00, 0.00000000e+00, 0.00000000e+00,\n",
       "        0.00000000e+00, 0.00000000e+00, 0.00000000e+00, 0.00000000e+00,\n",
       "        0.00000000e+00, 0.00000000e+00, 0.00000000e+00, 0.00000000e+00,\n",
       "        0.00000000e+00, 0.00000000e+00, 0.00000000e+00, 0.00000000e+00],\n",
       "       [0.00000000e+00, 0.00000000e+00, 0.00000000e+00, 0.00000000e+00,\n",
       "        0.00000000e+00, 0.00000000e+00, 0.00000000e+00, 0.00000000e+00,\n",
       "        0.00000000e+00, 0.00000000e+00, 0.00000000e+00, 0.00000000e+00,\n",
       "        0.00000000e+00, 0.00000000e+00, 0.00000000e+00, 0.00000000e+00,\n",
       "        0.00000000e+00, 0.00000000e+00, 0.00000000e+00, 0.00000000e+00,\n",
       "        0.00000000e+00, 0.00000000e+00, 0.00000000e+00, 0.00000000e+00,\n",
       "        0.00000000e+00, 0.00000000e+00, 0.00000000e+00, 0.00000000e+00],\n",
       "       [0.00000000e+00, 0.00000000e+00, 0.00000000e+00, 0.00000000e+00,\n",
       "        0.00000000e+00, 0.00000000e+00, 0.00000000e+00, 0.00000000e+00,\n",
       "        0.00000000e+00, 0.00000000e+00, 0.00000000e+00, 0.00000000e+00,\n",
       "        0.00000000e+00, 0.00000000e+00, 0.00000000e+00, 0.00000000e+00,\n",
       "        0.00000000e+00, 0.00000000e+00, 0.00000000e+00, 0.00000000e+00,\n",
       "        0.00000000e+00, 0.00000000e+00, 0.00000000e+00, 0.00000000e+00,\n",
       "        0.00000000e+00, 0.00000000e+00, 0.00000000e+00, 0.00000000e+00],\n",
       "       [0.00000000e+00, 0.00000000e+00, 0.00000000e+00, 0.00000000e+00,\n",
       "        0.00000000e+00, 0.00000000e+00, 0.00000000e+00, 0.00000000e+00,\n",
       "        0.00000000e+00, 0.00000000e+00, 0.00000000e+00, 0.00000000e+00,\n",
       "        1.53787005e-05, 0.00000000e+00, 0.00000000e+00, 1.99923106e-04,\n",
       "        1.12264514e-03, 0.00000000e+00, 0.00000000e+00, 1.53787005e-05,\n",
       "        6.15148020e-05, 0.00000000e+00, 0.00000000e+00, 0.00000000e+00,\n",
       "        0.00000000e+00, 1.53787005e-05, 1.53787005e-05, 0.00000000e+00],\n",
       "       [0.00000000e+00, 0.00000000e+00, 0.00000000e+00, 0.00000000e+00,\n",
       "        0.00000000e+00, 0.00000000e+00, 0.00000000e+00, 0.00000000e+00,\n",
       "        0.00000000e+00, 0.00000000e+00, 0.00000000e+00, 0.00000000e+00,\n",
       "        4.61361015e-05, 0.00000000e+00, 5.53633218e-04, 2.09150327e-03,\n",
       "        1.95309496e-03, 9.53479431e-04, 8.30449827e-04, 0.00000000e+00,\n",
       "        0.00000000e+00, 0.00000000e+00, 1.53787005e-05, 4.61361015e-05,\n",
       "        6.15148020e-05, 0.00000000e+00, 0.00000000e+00, 4.61361015e-05],\n",
       "       [0.00000000e+00, 0.00000000e+00, 0.00000000e+00, 0.00000000e+00,\n",
       "        0.00000000e+00, 0.00000000e+00, 0.00000000e+00, 0.00000000e+00,\n",
       "        0.00000000e+00, 0.00000000e+00, 0.00000000e+00, 0.00000000e+00,\n",
       "        9.22722030e-05, 0.00000000e+00, 1.56862745e-03, 3.13725490e-03,\n",
       "        2.70665129e-03, 2.06074587e-03, 2.21453287e-03, 1.89158016e-03,\n",
       "        3.53710111e-04, 0.00000000e+00, 0.00000000e+00, 0.00000000e+00,\n",
       "        0.00000000e+00, 1.84544406e-04, 1.53787005e-04, 0.00000000e+00],\n",
       "       [0.00000000e+00, 0.00000000e+00, 0.00000000e+00, 0.00000000e+00,\n",
       "        0.00000000e+00, 0.00000000e+00, 0.00000000e+00, 0.00000000e+00,\n",
       "        0.00000000e+00, 0.00000000e+00, 0.00000000e+00, 0.00000000e+00,\n",
       "        0.00000000e+00, 0.00000000e+00, 2.38369858e-03, 3.62937332e-03,\n",
       "        3.18339100e-03, 2.73740869e-03, 1.64552095e-03, 2.39907728e-03,\n",
       "        2.47597078e-03, 1.67627835e-03, 9.84236832e-04, 3.53710111e-04,\n",
       "        1.18415994e-03, 1.99923106e-03, 1.10726644e-03, 2.30680507e-04],\n",
       "       [0.00000000e+00, 0.00000000e+00, 0.00000000e+00, 0.00000000e+00,\n",
       "        0.00000000e+00, 0.00000000e+00, 0.00000000e+00, 0.00000000e+00,\n",
       "        0.00000000e+00, 0.00000000e+00, 0.00000000e+00, 1.53787005e-05,\n",
       "        0.00000000e+00, 1.06113033e-03, 3.18339100e-03, 3.42945021e-03,\n",
       "        3.35255671e-03, 3.32179931e-03, 3.32179931e-03, 2.50672818e-03,\n",
       "        1.95309496e-03, 1.86082276e-03, 1.87620146e-03, 2.24529027e-03,\n",
       "        2.16839677e-03, 1.35332564e-03, 2.64513649e-03, 1.01499423e-03],\n",
       "       [0.00000000e+00, 0.00000000e+00, 0.00000000e+00, 0.00000000e+00,\n",
       "        0.00000000e+00, 0.00000000e+00, 0.00000000e+00, 0.00000000e+00,\n",
       "        0.00000000e+00, 1.53787005e-05, 1.53787005e-05, 1.53787005e-05,\n",
       "        0.00000000e+00, 3.07574010e-03, 3.56785852e-03, 3.56785852e-03,\n",
       "        3.58323722e-03, 3.52172241e-03, 3.42945021e-03, 3.42945021e-03,\n",
       "        3.30642061e-03, 3.27566321e-03, 2.52210688e-03, 1.95309496e-03,\n",
       "        1.89158016e-03, 3.01422530e-03, 3.52172241e-03, 0.00000000e+00],\n",
       "       [0.00000000e+00, 0.00000000e+00, 0.00000000e+00, 0.00000000e+00,\n",
       "        0.00000000e+00, 0.00000000e+00, 0.00000000e+00, 0.00000000e+00,\n",
       "        0.00000000e+00, 0.00000000e+00, 0.00000000e+00, 0.00000000e+00,\n",
       "        0.00000000e+00, 2.81430219e-03, 3.46020761e-03, 3.32179931e-03,\n",
       "        3.42945021e-03, 3.50634371e-03, 3.61399462e-03, 3.49096501e-03,\n",
       "        3.44482891e-03, 3.41407151e-03, 3.44482891e-03, 3.39869281e-03,\n",
       "        3.42945021e-03, 3.76778162e-03, 2.66051519e-03, 0.00000000e+00],\n",
       "       [0.00000000e+00, 0.00000000e+00, 0.00000000e+00, 0.00000000e+00,\n",
       "        0.00000000e+00, 0.00000000e+00, 0.00000000e+00, 0.00000000e+00,\n",
       "        0.00000000e+00, 0.00000000e+00, 0.00000000e+00, 0.00000000e+00,\n",
       "        0.00000000e+00, 2.96808920e-03, 3.50634371e-03, 3.35255671e-03,\n",
       "        3.27566321e-03, 3.04498270e-03, 2.76816609e-03, 3.26028451e-03,\n",
       "        3.22952710e-03, 3.24490581e-03, 3.27566321e-03, 3.42945021e-03,\n",
       "        3.38331411e-03, 3.73702422e-03, 3.10649750e-03, 0.00000000e+00],\n",
       "       [0.00000000e+00, 0.00000000e+00, 0.00000000e+00, 0.00000000e+00,\n",
       "        0.00000000e+00, 0.00000000e+00, 0.00000000e+00, 0.00000000e+00,\n",
       "        0.00000000e+00, 1.53787005e-05, 4.61361015e-05, 0.00000000e+00,\n",
       "        1.84544406e-04, 3.36793541e-03, 3.38331411e-03, 3.26028451e-03,\n",
       "        3.35255671e-03, 2.95271050e-03, 2.59900038e-03, 3.49096501e-03,\n",
       "        3.19876970e-03, 3.35255671e-03, 3.44482891e-03, 3.26028451e-03,\n",
       "        3.47558631e-03, 3.02960400e-03, 3.21414840e-03, 7.99692426e-04],\n",
       "       [0.00000000e+00, 0.00000000e+00, 0.00000000e+00, 0.00000000e+00,\n",
       "        0.00000000e+00, 0.00000000e+00, 0.00000000e+00, 0.00000000e+00,\n",
       "        0.00000000e+00, 0.00000000e+00, 9.22722030e-05, 0.00000000e+00,\n",
       "        1.52249135e-03, 3.75240292e-03, 3.41407151e-03, 3.38331411e-03,\n",
       "        3.35255671e-03, 3.12187620e-03, 3.04498270e-03, 3.39869281e-03,\n",
       "        3.30642061e-03, 3.27566321e-03, 3.41407151e-03, 3.38331411e-03,\n",
       "        3.76778162e-03, 1.83006536e-03, 2.56824298e-03, 8.61207228e-04],\n",
       "       [0.00000000e+00, 0.00000000e+00, 0.00000000e+00, 0.00000000e+00,\n",
       "        0.00000000e+00, 0.00000000e+00, 0.00000000e+00, 0.00000000e+00,\n",
       "        0.00000000e+00, 6.15148020e-05, 0.00000000e+00, 0.00000000e+00,\n",
       "        8.45828527e-04, 3.62937332e-03, 3.50634371e-03, 3.53710111e-03,\n",
       "        3.50634371e-03, 3.69088812e-03, 3.56785852e-03, 3.27566321e-03,\n",
       "        3.35255671e-03, 3.42945021e-03, 3.59861592e-03, 3.33717801e-03,\n",
       "        3.33717801e-03, 3.21414840e-03, 1.41484045e-03, 0.00000000e+00],\n",
       "       [0.00000000e+00, 0.00000000e+00, 1.53787005e-05, 6.15148020e-05,\n",
       "        9.22722030e-05, 1.07650903e-04, 3.07574010e-05, 0.00000000e+00,\n",
       "        0.00000000e+00, 0.00000000e+00, 0.00000000e+00, 0.00000000e+00,\n",
       "        3.64475202e-03, 3.47558631e-03, 3.33717801e-03, 3.42945021e-03,\n",
       "        3.41407151e-03, 3.36793541e-03, 3.41407151e-03, 3.39869281e-03,\n",
       "        3.32179931e-03, 3.42945021e-03, 3.52172241e-03, 3.30642061e-03,\n",
       "        3.35255671e-03, 3.92156863e-03, 1.18415994e-03, 0.00000000e+00],\n",
       "       [0.00000000e+00, 4.61361015e-05, 0.00000000e+00, 0.00000000e+00,\n",
       "        0.00000000e+00, 0.00000000e+00, 0.00000000e+00, 0.00000000e+00,\n",
       "        0.00000000e+00, 9.53479431e-04, 2.22991157e-03, 3.13725490e-03,\n",
       "        3.50634371e-03, 3.18339100e-03, 3.27566321e-03, 3.39869281e-03,\n",
       "        3.35255671e-03, 3.19876970e-03, 3.24490581e-03, 3.35255671e-03,\n",
       "        3.44482891e-03, 3.42945021e-03, 3.36793541e-03, 3.30642061e-03,\n",
       "        3.44482891e-03, 3.75240292e-03, 2.44521338e-03, 0.00000000e+00],\n",
       "       [0.00000000e+00, 0.00000000e+00, 0.00000000e+00, 0.00000000e+00,\n",
       "        2.76816609e-04, 6.76662822e-04, 1.26105344e-03, 1.64552095e-03,\n",
       "        2.90657439e-03, 3.50634371e-03, 3.38331411e-03, 3.41407151e-03,\n",
       "        3.33717801e-03, 3.47558631e-03, 3.07574010e-03, 3.15263360e-03,\n",
       "        3.24490581e-03, 3.53710111e-03, 3.44482891e-03, 3.59861592e-03,\n",
       "        2.70665129e-03, 2.89119569e-03, 3.84467512e-03, 3.81391772e-03,\n",
       "        3.58323722e-03, 3.66013072e-03, 3.30642061e-03, 0.00000000e+00],\n",
       "       [0.00000000e+00, 8.76585928e-04, 2.87581699e-03, 3.19876970e-03,\n",
       "        3.44482891e-03, 3.39869281e-03, 3.44482891e-03, 3.19876970e-03,\n",
       "        3.13725490e-03, 3.29104191e-03, 3.19876970e-03, 3.21414840e-03,\n",
       "        3.07574010e-03, 2.44521338e-03, 3.76778162e-03, 2.96808920e-03,\n",
       "        3.16801230e-03, 3.42945021e-03, 3.92156863e-03, 3.92156863e-03,\n",
       "        3.39869281e-03, 3.59861592e-03, 3.39869281e-03, 3.24490581e-03,\n",
       "        3.38331411e-03, 3.56785852e-03, 3.78316032e-03, 0.00000000e+00],\n",
       "       [4.61361015e-05, 3.10649750e-03, 3.50634371e-03, 3.44482891e-03,\n",
       "        3.39869281e-03, 3.24490581e-03, 3.24490581e-03, 3.29104191e-03,\n",
       "        3.15263360e-03, 3.15263360e-03, 3.15263360e-03, 3.38331411e-03,\n",
       "        3.69088812e-03, 1.23029604e-03, 2.30680507e-03, 3.92156863e-03,\n",
       "        3.52172241e-03, 3.39869281e-03, 2.89119569e-03, 2.36831988e-03,\n",
       "        2.93733180e-03, 3.22952710e-03, 3.13725490e-03, 3.21414840e-03,\n",
       "        3.41407151e-03, 3.50634371e-03, 3.46020761e-03, 0.00000000e+00],\n",
       "       [1.50711265e-03, 3.58323722e-03, 3.04498270e-03, 3.22952710e-03,\n",
       "        3.41407151e-03, 3.52172241e-03, 3.52172241e-03, 3.59861592e-03,\n",
       "        3.82929642e-03, 3.38331411e-03, 2.98346790e-03, 3.30642061e-03,\n",
       "        3.33717801e-03, 3.70626682e-03, 9.99615532e-04, 1.12264514e-03,\n",
       "        1.63014225e-03, 1.79930796e-03, 2.58362168e-03, 3.36793541e-03,\n",
       "        3.39869281e-03, 3.30642061e-03, 3.33717801e-03, 3.42945021e-03,\n",
       "        3.42945021e-03, 3.44482891e-03, 3.52172241e-03, 4.45982314e-04],\n",
       "       [1.15340254e-03, 3.13725490e-03, 3.26028451e-03, 3.13725490e-03,\n",
       "        2.96808920e-03, 3.15263360e-03, 3.24490581e-03, 3.46020761e-03,\n",
       "        3.32179931e-03, 2.84505959e-03, 3.02960400e-03, 3.16801230e-03,\n",
       "        3.04498270e-03, 3.27566321e-03, 3.69088812e-03, 2.99884660e-03,\n",
       "        3.49096501e-03, 3.76778162e-03, 3.67550942e-03, 3.42945021e-03,\n",
       "        3.35255671e-03, 3.26028451e-03, 3.21414840e-03, 3.41407151e-03,\n",
       "        3.38331411e-03, 3.39869281e-03, 3.53710111e-03, 1.03037293e-03],\n",
       "       [7.38177624e-04, 3.12187620e-03, 2.81430219e-03, 2.98346790e-03,\n",
       "        3.27566321e-03, 3.02960400e-03, 2.84505959e-03, 2.92195309e-03,\n",
       "        2.98346790e-03, 2.95271050e-03, 3.10649750e-03, 3.29104191e-03,\n",
       "        3.36793541e-03, 3.39869281e-03, 3.38331411e-03, 3.62937332e-03,\n",
       "        3.46020761e-03, 3.32179931e-03, 3.06036140e-03, 3.16801230e-03,\n",
       "        2.86043829e-03, 2.78354479e-03, 2.72202999e-03, 2.64513649e-03,\n",
       "        2.78354479e-03, 3.15263360e-03, 3.16801230e-03, 1.76855056e-03],\n",
       "       [0.00000000e+00, 1.87620146e-03, 3.36793541e-03, 2.96808920e-03,\n",
       "        2.75278739e-03, 2.62975779e-03, 2.81430219e-03, 3.01422530e-03,\n",
       "        3.13725490e-03, 3.22952710e-03, 3.27566321e-03, 3.18339100e-03,\n",
       "        3.24490581e-03, 3.22952710e-03, 3.07574010e-03, 3.01422530e-03,\n",
       "        2.98346790e-03, 2.93733180e-03, 2.99884660e-03, 2.93733180e-03,\n",
       "        3.04498270e-03, 2.95271050e-03, 2.70665129e-03, 2.39907728e-03,\n",
       "        2.56824298e-03, 2.72202999e-03, 3.22952710e-03, 1.41484045e-03],\n",
       "       [0.00000000e+00, 0.00000000e+00, 1.13802384e-03, 2.90657439e-03,\n",
       "        3.26028451e-03, 2.93733180e-03, 2.69127259e-03, 2.64513649e-03,\n",
       "        2.69127259e-03, 2.78354479e-03, 2.84505959e-03, 2.89119569e-03,\n",
       "        2.90657439e-03, 2.89119569e-03, 2.96808920e-03, 3.04498270e-03,\n",
       "        3.13725490e-03, 3.21414840e-03, 3.22952710e-03, 3.22952710e-03,\n",
       "        3.24490581e-03, 2.89119569e-03, 2.89119569e-03, 2.98346790e-03,\n",
       "        2.95271050e-03, 3.32179931e-03, 2.61437908e-03, 0.00000000e+00],\n",
       "       [3.07574010e-05, 0.00000000e+00, 0.00000000e+00, 0.00000000e+00,\n",
       "        1.01499423e-03, 3.07574010e-03, 3.41407151e-03, 3.64475202e-03,\n",
       "        3.67550942e-03, 3.72164552e-03, 3.78316032e-03, 3.73702422e-03,\n",
       "        3.75240292e-03, 3.39869281e-03, 3.38331411e-03, 2.96808920e-03,\n",
       "        2.93733180e-03, 2.75278739e-03, 2.79892349e-03, 2.79892349e-03,\n",
       "        2.78354479e-03, 2.70665129e-03, 2.55286428e-03, 2.58362168e-03,\n",
       "        1.52249135e-03, 8.91964629e-04, 0.00000000e+00, 0.00000000e+00],\n",
       "       [0.00000000e+00, 0.00000000e+00, 0.00000000e+00, 0.00000000e+00,\n",
       "        0.00000000e+00, 0.00000000e+00, 0.00000000e+00, 6.15148020e-04,\n",
       "        9.38100730e-04, 6.76662822e-04, 1.10726644e-03, 6.30526720e-04,\n",
       "        5.38254517e-04, 0.00000000e+00, 0.00000000e+00, 0.00000000e+00,\n",
       "        0.00000000e+00, 0.00000000e+00, 0.00000000e+00, 0.00000000e+00,\n",
       "        0.00000000e+00, 0.00000000e+00, 0.00000000e+00, 0.00000000e+00,\n",
       "        0.00000000e+00, 0.00000000e+00, 0.00000000e+00, 0.00000000e+00],\n",
       "       [0.00000000e+00, 0.00000000e+00, 0.00000000e+00, 0.00000000e+00,\n",
       "        0.00000000e+00, 0.00000000e+00, 0.00000000e+00, 0.00000000e+00,\n",
       "        0.00000000e+00, 0.00000000e+00, 0.00000000e+00, 0.00000000e+00,\n",
       "        0.00000000e+00, 0.00000000e+00, 0.00000000e+00, 0.00000000e+00,\n",
       "        0.00000000e+00, 0.00000000e+00, 0.00000000e+00, 0.00000000e+00,\n",
       "        0.00000000e+00, 0.00000000e+00, 0.00000000e+00, 0.00000000e+00,\n",
       "        0.00000000e+00, 0.00000000e+00, 0.00000000e+00, 0.00000000e+00],\n",
       "       [0.00000000e+00, 0.00000000e+00, 0.00000000e+00, 0.00000000e+00,\n",
       "        0.00000000e+00, 0.00000000e+00, 0.00000000e+00, 0.00000000e+00,\n",
       "        0.00000000e+00, 0.00000000e+00, 0.00000000e+00, 0.00000000e+00,\n",
       "        0.00000000e+00, 0.00000000e+00, 0.00000000e+00, 0.00000000e+00,\n",
       "        0.00000000e+00, 0.00000000e+00, 0.00000000e+00, 0.00000000e+00,\n",
       "        0.00000000e+00, 0.00000000e+00, 0.00000000e+00, 0.00000000e+00,\n",
       "        0.00000000e+00, 0.00000000e+00, 0.00000000e+00, 0.00000000e+00]])"
      ]
     },
     "execution_count": 43,
     "metadata": {},
     "output_type": "execute_result"
    }
   ],
   "source": [
    "x_train[0]#values are between 0 to 1,this normalization will help with your neural n/w#this value before between 0 to 255#and this normalzation helpful to create neural n/w"
   ]
  },
  {
   "cell_type": "code",
   "execution_count": 44,
   "metadata": {},
   "outputs": [],
   "source": [
    "from keras.models import Sequential\n",
    "from keras.layers import Dense,Activation,Flatten#flaten used for create a model"
   ]
  },
  {
   "cell_type": "code",
   "execution_count": 45,
   "metadata": {},
   "outputs": [],
   "source": [
    "model=Sequential()#create neural n/w model\n",
    "model.add(Flatten(input_shape=[28,28]))#bulid neural n/w with 1 i/p layer ,thsi way to add the i/p layer is flatten.shape are 28 by 28\n",
    "#bcoz u know your image size is 28 by 28.flatten converting 2 d array to 1 d array.this line used for creating I?P layer"
   ]
  },
  {
   "cell_type": "code",
   "execution_count": 84,
   "metadata": {},
   "outputs": [],
   "source": [
    "model.add(Dense(150,activation='relu'))#and second layer is called dense layer and this is our hiddden layer,and how mnY NEURON ARE SPECIFIED.start with 20and find which one are best\n",
    "model.add(Dense(10,activation='softmax'))#last layer is o/p layer.in that layer have 10 neuron bcoz u know that our classification\n",
    "#label our catogories as are ten in input dataset.and that layer activation function are softmax.it is distributing set of numbers into probabilities\n",
    "#of available classification classes#Dense o/p layer having 10 neuron bcoz o/p are classify #in genrally one or 2 hidden layer are used not morethat."
   ]
  },
  {
   "cell_type": "code",
   "execution_count": 85,
   "metadata": {},
   "outputs": [
    {
     "name": "stdout",
     "output_type": "stream",
     "text": [
      "Model: \"sequential_1\"\n",
      "_________________________________________________________________\n",
      "Layer (type)                 Output Shape              Param #   \n",
      "=================================================================\n",
      "flatten_1 (Flatten)          (None, 784)               0         \n",
      "_________________________________________________________________\n",
      "dense_1 (Dense)              (None, 20)                15700     \n",
      "_________________________________________________________________\n",
      "dense_2 (Dense)              (None, 10)                210       \n",
      "_________________________________________________________________\n",
      "dense_3 (Dense)              (None, 100)               1100      \n",
      "_________________________________________________________________\n",
      "dense_4 (Dense)              (None, 10)                1010      \n",
      "_________________________________________________________________\n",
      "dense_5 (Dense)              (None, 150)               1650      \n",
      "_________________________________________________________________\n",
      "dense_6 (Dense)              (None, 10)                1510      \n",
      "=================================================================\n",
      "Total params: 18,020\n",
      "Trainable params: 18,020\n",
      "Non-trainable params: 0\n",
      "_________________________________________________________________\n"
     ]
    },
    {
     "name": "stderr",
     "output_type": "stream",
     "text": [
      "C:\\logs\\lib\\site-packages\\keras\\engine\\training.py:297: UserWarning: Discrepancy between trainable weights and collected trainable weights, did you set `model.trainable` without calling `model.compile` after ?\n",
      "  'Discrepancy between trainable weights and collected trainable'\n"
     ]
    }
   ],
   "source": [
    "model.summary()#784 is inpute features,20 neuron at hidden layer.summary shows in i/p layer have 784 neuron,2nd hidden layer have 20 neuron and last o/p layer have 10 neuron"
   ]
  },
  {
   "cell_type": "code",
   "execution_count": 86,
   "metadata": {},
   "outputs": [],
   "source": [
    "model.compile(loss='sparse_categorical_crossentropy',optimizer='adam',metrics=['accuracy'])#1 para loss function this loss function help for math calculation\n",
    "#2 para is optimizer ,optimizer is nothing but when your training your neural n/w ,it is an algo that help you adjust the weight of edges\n",
    "#as you are doing trainig ,then matrix para is what kind of matrix use during training\n",
    "              #here that complie the model then model are ready for training"
   ]
  },
  {
   "cell_type": "code",
   "execution_count": 87,
   "metadata": {},
   "outputs": [
    {
     "name": "stdout",
     "output_type": "stream",
     "text": [
      "Epoch 1/5\n",
      "60000/60000 [==============================] - 6s 107us/step - loss: 0.5750 - accuracy: 0.8295\n",
      "Epoch 2/5\n",
      "60000/60000 [==============================] - 6s 101us/step - loss: 0.4605 - accuracy: 0.8398\n",
      "Epoch 3/5\n",
      "60000/60000 [==============================] - 6s 102us/step - loss: 0.4461 - accuracy: 0.8432\n",
      "Epoch 4/5\n",
      "60000/60000 [==============================] - 6s 102us/step - loss: 0.4364 - accuracy: 0.8461\n",
      "Epoch 5/5\n",
      "60000/60000 [==============================] - 6s 102us/step - loss: 0.4277 - accuracy: 0.8491\n"
     ]
    },
    {
     "data": {
      "text/plain": [
       "<keras.callbacks.callbacks.History at 0x1abe8ef9f28>"
      ]
     },
     "execution_count": 87,
     "metadata": {},
     "output_type": "execute_result"
    }
   ],
   "source": [
    "#we useually use fit function\n",
    "model.fit(x_train,y_train,epochs=5)#epoch is 5 ,iteration are define is 5 and u run this it is training the n/w and loo like your n/w are ready\n",
    "#if your neuron are large then your training time is take large time goes up time.take long time before our n/w is trained"
   ]
  },
  {
   "cell_type": "code",
   "execution_count": 89,
   "metadata": {},
   "outputs": [
    {
     "data": {
      "text/plain": [
       "<matplotlib.image.AxesImage at 0x1abe952c470>"
      ]
     },
     "execution_count": 89,
     "metadata": {},
     "output_type": "execute_result"
    },
    {
     "data": {
      "image/png": "[encoded data removed]",
      "text/plain": [
       "<Figure size 288x288 with 1 Axes>"
      ]
     },
     "metadata": {
      "needs_background": "light"
     },
     "output_type": "display_data"
    }
   ],
   "source": [
    "#then your model are ready then lets start for prediction#plot 1st img into dataset\n",
    "plt.matshow(x_test[0])#lts check your dataset ,1st image in dataset using matshow"
   ]
  },
  {
   "cell_type": "code",
   "execution_count": 90,
   "metadata": {},
   "outputs": [
    {
     "data": {
      "text/plain": [
       "(10000, 28, 28)"
      ]
     },
     "execution_count": 90,
     "metadata": {},
     "output_type": "execute_result"
    }
   ],
   "source": [
    "x_test.shape#28 by 28 pixel image and 10000 images"
   ]
  },
  {
   "cell_type": "code",
   "execution_count": 91,
   "metadata": {},
   "outputs": [],
   "source": [
    "#lets what neural n/w predict to be for above image,we use predict function\n",
    "yp=model.predict(x_test)#now your 1000 image are ready for prediction &yp predict 10000 images"
   ]
  },
  {
   "cell_type": "code",
   "execution_count": null,
   "metadata": {},
   "outputs": [],
   "source": []
  },
  {
   "cell_type": "code",
   "execution_count": 92,
   "metadata": {},
   "outputs": [
    {
     "data": {
      "text/plain": [
       "array([6.4585818e-04, 1.6413038e-04, 1.4397375e-04, 1.3374933e-04,\n",
       "       4.0283532e-05, 6.5688729e-02, 2.5991187e-04, 1.4528494e-01,\n",
       "       2.3137720e-03, 7.8532457e-01], dtype=float32)"
      ]
     },
     "execution_count": 92,
     "metadata": {},
     "output_type": "execute_result"
    }
   ],
   "source": [
    "yp[0]#this is 1st image and its give 10 distinct probability in o/p layer bcoz 0 to 9 labels in dataset,0 index corrssopnd t_shirt 9 index corresond ankle boot."
   ]
  },
  {
   "cell_type": "code",
   "execution_count": 93,
   "metadata": {},
   "outputs": [
    {
     "data": {
      "text/plain": [
       "9"
      ]
     },
     "execution_count": 93,
     "metadata": {},
     "output_type": "execute_result"
    }
   ],
   "source": [
    "np.argmax(yp[0])#this fun tell you which index is highest,here 9 th index is highest which is this and 9th index means ankle boot "
   ]
  },
  {
   "cell_type": "code",
   "execution_count": 94,
   "metadata": {},
   "outputs": [
    {
     "data": {
      "text/plain": [
       "<matplotlib.image.AxesImage at 0x1abe972df28>"
      ]
     },
     "execution_count": 94,
     "metadata": {},
     "output_type": "execute_result"
    },
    {
     "data": {
      "image/png": "[encoded data removed]",
      "text/plain": [
       "<Figure size 288x288 with 1 Axes>"
      ]
     },
     "metadata": {
      "needs_background": "light"
     },
     "output_type": "display_data"
    }
   ],
   "source": [
    "plt.matshow(x_test[1])#lets check another image identification#this is my 1st test img"
   ]
  },
  {
   "cell_type": "code",
   "execution_count": 95,
   "metadata": {},
   "outputs": [],
   "source": [
    "yp=model.predict(x_test)"
   ]
  },
  {
   "cell_type": "code",
   "execution_count": 96,
   "metadata": {},
   "outputs": [
    {
     "data": {
      "text/plain": [
       "array([4.3810117e-03, 3.7312664e-03, 9.2339432e-01, 1.1843051e-03,\n",
       "       1.7267320e-02, 9.0418536e-05, 4.7748800e-02, 1.5241099e-05,\n",
       "       2.1255594e-03, 6.1777391e-05], dtype=float32)"
      ]
     },
     "execution_count": 96,
     "metadata": {},
     "output_type": "execute_result"
    }
   ],
   "source": [
    "yp[1]#softmax a.f gives 10 distinct probabilities between 0 to 9 bcoz into 10 classes your img are to be classify.\n",
    "#9.233 is the highest estiate"
   ]
  },
  {
   "cell_type": "code",
   "execution_count": 97,
   "metadata": {},
   "outputs": [
    {
     "data": {
      "text/plain": [
       "2"
      ]
     },
     "execution_count": 97,
     "metadata": {},
     "output_type": "execute_result"
    }
   ],
   "source": [
    "np.argmax(yp[1])#and 2 is o/p ,2 label discription indicated is PullOver.it is right prediction for image classification"
   ]
  },
  {
   "cell_type": "code",
   "execution_count": 71,
   "metadata": {},
   "outputs": [
    {
     "name": "stdout",
     "output_type": "stream",
     "text": [
      "10000/10000 [==============================] - 0s 50us/step\n"
     ]
    },
    {
     "data": {
      "text/plain": [
       "[0.6104874267101288, 0.7773000001907349]"
      ]
     },
     "execution_count": 71,
     "metadata": {},
     "output_type": "execute_result"
    }
   ],
   "source": [
    "model.evaluate(x_test,y_test)#check accuracy score for x_test and y_test.2nd para is accuracy score,and 1st para is loss here  u can see that your accracy are \n",
    "#77%,if your neuron is large in layer then you get better accuracy"
   ]
  }
 ],
 "metadata": {
  "kernelspec": {
   "display_name": "Python 3",
   "language": "python",
   "name": "python3"
  },
  "language_info": {
   "codemirror_mode": {
    "name": "ipython",
    "version": 3
   },
   "file_extension": ".py",
   "mimetype": "text/x-python",
   "name": "python",
   "nbconvert_exporter": "python",
   "pygments_lexer": "ipython3",
   "version": "3.7.3"
  }
 },
 "nbformat": 4,
 "nbformat_minor": 2
}
